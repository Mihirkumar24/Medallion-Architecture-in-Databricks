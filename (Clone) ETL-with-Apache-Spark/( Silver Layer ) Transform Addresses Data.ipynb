{
 "cells": [
  {
   "cell_type": "code",
   "execution_count": 0,
   "metadata": {
    "application/vnd.databricks.v1+cell": {
     "cellMetadata": {
      "byteLimit": 2048000,
      "implicitDf": true,
      "rowLimit": 10000
     },
     "inputWidgets": {},
     "nuid": "9a173f4c-8885-44b2-b2a6-9f1932b02058",
     "showTitle": false,
     "tableResultSettingsMap": {},
     "title": ""
    }
   },
   "outputs": [],
   "source": [
    "%sql\n",
    "select  customer_id,\n",
    "        address_type,\n",
    "        address_line_1,\n",
    "        city,\n",
    "        state,\n",
    "        postcode\n",
    "  from democatalog.bronze.v_addresses"
   ]
  },
  {
   "cell_type": "markdown",
   "metadata": {
    "application/vnd.databricks.v1+cell": {
     "cellMetadata": {},
     "inputWidgets": {},
     "nuid": "9b8c57de-4591-4a22-8084-9b752e24d868",
     "showTitle": false,
     "tableResultSettingsMap": {},
     "title": ""
    }
   },
   "source": [
    "### Create one record for each customer with both addresses, one for each address_type"
   ]
  },
  {
   "cell_type": "code",
   "execution_count": 0,
   "metadata": {
    "application/vnd.databricks.v1+cell": {
     "cellMetadata": {
      "byteLimit": 2048000,
      "implicitDf": true,
      "rowLimit": 10000
     },
     "inputWidgets": {},
     "nuid": "346b8b36-6a74-438d-a812-99730ab1a2c2",
     "showTitle": false,
     "tableResultSettingsMap": {},
     "title": ""
    }
   },
   "outputs": [],
   "source": [
    "%sql\n",
    "select *\n",
    "from (\n",
    "  select  customer_id,\n",
    "        address_type,\n",
    "        address_line_1,\n",
    "        city,\n",
    "        state,\n",
    "        postcode\n",
    "  from democatalog.bronze.v_addresses)\n",
    "pivot( max(address_line_1) as address_line_1, \n",
    "       max(city) as city, \n",
    "       max(state) as state, \n",
    "       max(postcode) as postcode\n",
    "       for address_type in ('shipping' , 'billing')\n",
    ");\n",
    "\n"
   ]
  },
  {
   "cell_type": "markdown",
   "metadata": {
    "application/vnd.databricks.v1+cell": {
     "cellMetadata": {},
     "inputWidgets": {},
     "nuid": "c43f9bf3-6957-4854-a142-f0caa2762601",
     "showTitle": false,
     "tableResultSettingsMap": {},
     "title": ""
    }
   },
   "source": [
    "### Write transformed data into silver schema"
   ]
  },
  {
   "cell_type": "code",
   "execution_count": 0,
   "metadata": {
    "application/vnd.databricks.v1+cell": {
     "cellMetadata": {
      "byteLimit": 2048000,
      "implicitDf": true,
      "rowLimit": 10000
     },
     "inputWidgets": {},
     "nuid": "9231be2c-266a-4ddb-9e7a-309a42dbf0ed",
     "showTitle": false,
     "tableResultSettingsMap": {},
     "title": ""
    }
   },
   "outputs": [],
   "source": [
    "%sql\n",
    "create table democatalog.silver.addresses\n",
    "as\n",
    "select *\n",
    "from (\n",
    "  select  customer_id,\n",
    "        address_type,\n",
    "        address_line_1,\n",
    "        city,\n",
    "        state,\n",
    "        postcode\n",
    "  from democatalog.bronze.v_addresses)\n",
    "pivot( max(address_line_1) as address_line_1, \n",
    "       max(city) as city, \n",
    "       max(state) as state, \n",
    "       max(postcode) as postcode\n",
    "       for address_type in ('shipping' , 'billing')\n",
    ");"
   ]
  },
  {
   "cell_type": "code",
   "execution_count": 0,
   "metadata": {
    "application/vnd.databricks.v1+cell": {
     "cellMetadata": {
      "byteLimit": 2048000,
      "implicitDf": true,
      "rowLimit": 10000
     },
     "inputWidgets": {},
     "nuid": "9a6a1c51-cc30-48ce-910d-d41d63c3d452",
     "showTitle": false,
     "tableResultSettingsMap": {},
     "title": ""
    }
   },
   "outputs": [],
   "source": [
    "%sql\n",
    "select * from democatalog.silver.addresses"
   ]
  }
 ],
 "metadata": {
  "application/vnd.databricks.v1+notebook": {
   "computePreferences": null,
   "dashboards": [],
   "environmentMetadata": {
    "base_environment": "",
    "environment_version": "4"
   },
   "inputWidgetPreferences": null,
   "language": "python",
   "notebookMetadata": {
    "mostRecentlyExecutedCommandWithImplicitDF": {
     "commandId": 7420276363676011,
     "dataframes": [
      "_sqldf"
     ]
    },
    "pythonIndentUnit": 4
   },
   "notebookName": "( Silver Layer ) Transform Addresses Data",
   "widgets": {}
  },
  "language_info": {
   "name": "python"
  }
 },
 "nbformat": 4,
 "nbformat_minor": 0
}
