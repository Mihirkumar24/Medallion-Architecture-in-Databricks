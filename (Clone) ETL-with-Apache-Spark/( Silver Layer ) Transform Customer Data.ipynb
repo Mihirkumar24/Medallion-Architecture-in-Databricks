{
 "cells": [
  {
   "cell_type": "markdown",
   "metadata": {
    "application/vnd.databricks.v1+cell": {
     "cellMetadata": {},
     "inputWidgets": {},
     "nuid": "22fca3a6-336d-44ea-93b6-121e21aa7709",
     "showTitle": false,
     "tableResultSettingsMap": {},
     "title": ""
    }
   },
   "source": [
    "### Remove records with NULL customer_id"
   ]
  },
  {
   "cell_type": "code",
   "execution_count": 0,
   "metadata": {
    "application/vnd.databricks.v1+cell": {
     "cellMetadata": {
      "byteLimit": 2048000,
      "implicitDf": true,
      "rowLimit": 10000
     },
     "inputWidgets": {},
     "nuid": "5d2d28a5-26f4-4a1d-9a32-a2c96323a68c",
     "showTitle": false,
     "tableResultSettingsMap": {},
     "title": ""
    }
   },
   "outputs": [],
   "source": [
    "%sql\n",
    "select customer_id,* from  democatalog.bronze.v_customers"
   ]
  },
  {
   "cell_type": "code",
   "execution_count": 0,
   "metadata": {
    "application/vnd.databricks.v1+cell": {
     "cellMetadata": {
      "byteLimit": 2048000,
      "implicitDf": true,
      "rowLimit": 10000
     },
     "inputWidgets": {},
     "nuid": "c29e3529-67a4-4ac9-8a1b-adfc1bb8fb4c",
     "showTitle": false,
     "tableResultSettingsMap": {
      "0": {
       "dataGridStateBlob": "{\"version\":1,\"tableState\":{\"columnPinning\":{\"left\":[\"#row_number#\"],\"right\":[]},\"columnSizing\":{},\"columnVisibility\":{}},\"settings\":{\"columns\":{}},\"syncTimestamp\":1760668031475}",
       "filterBlob": null,
       "queryPlanFiltersBlob": null,
       "tableResultIndex": 0
      }
     },
     "title": ""
    }
   },
   "outputs": [],
   "source": [
    "%sql\n",
    "select customer_id,* from  democatalog.bronze.v_customers\n",
    "where customer_id is not null"
   ]
  },
  {
   "cell_type": "markdown",
   "metadata": {
    "application/vnd.databricks.v1+cell": {
     "cellMetadata": {},
     "inputWidgets": {},
     "nuid": "9f037073-bcb8-47f5-aed6-aa749dee99ac",
     "showTitle": false,
     "tableResultSettingsMap": {},
     "title": ""
    }
   },
   "source": [
    "### Remove Exact duplicates"
   ]
  },
  {
   "cell_type": "code",
   "execution_count": 0,
   "metadata": {
    "application/vnd.databricks.v1+cell": {
     "cellMetadata": {
      "byteLimit": 2048000,
      "implicitDf": true,
      "rowLimit": 10000
     },
     "inputWidgets": {},
     "nuid": "a325b9ba-4f68-451c-8dd2-f7024c587309",
     "showTitle": false,
     "tableResultSettingsMap": {},
     "title": ""
    }
   },
   "outputs": [],
   "source": [
    "%sql\n",
    "select customer_id,* from  democatalog.bronze.v_customers\n",
    "where customer_id is not null\n",
    "order by customer_id"
   ]
  },
  {
   "cell_type": "code",
   "execution_count": 0,
   "metadata": {
    "application/vnd.databricks.v1+cell": {
     "cellMetadata": {
      "byteLimit": 2048000,
      "implicitDf": true,
      "rowLimit": 10000
     },
     "inputWidgets": {},
     "nuid": "b28886e3-63e8-446e-b04b-a8b05ec37332",
     "showTitle": false,
     "tableResultSettingsMap": {},
     "title": ""
    }
   },
   "outputs": [],
   "source": [
    "%sql\n",
    "select distinct * from  democatalog.bronze.v_customers\n",
    "where customer_id is not null\n",
    "order by customer_id"
   ]
  },
  {
   "cell_type": "code",
   "execution_count": 0,
   "metadata": {
    "application/vnd.databricks.v1+cell": {
     "cellMetadata": {
      "byteLimit": 2048000,
      "implicitDf": true,
      "rowLimit": 10000
     },
     "inputWidgets": {},
     "nuid": "044caa1c-6a00-4fae-929c-efff21483005",
     "showTitle": false,
     "tableResultSettingsMap": {},
     "title": ""
    }
   },
   "outputs": [],
   "source": [
    "%sql\n",
    "create or replace temporary view v_customers_distinct\n",
    "as\n",
    "select distinct * from  democatalog.bronze.v_customers\n",
    "where customer_id is not null\n",
    "order by customer_id"
   ]
  },
  {
   "cell_type": "code",
   "execution_count": 0,
   "metadata": {
    "application/vnd.databricks.v1+cell": {
     "cellMetadata": {
      "byteLimit": 2048000,
      "implicitDf": true,
      "rowLimit": 10000
     },
     "inputWidgets": {},
     "nuid": "15ff0e67-fcf9-4384-a901-df01ebe27fd4",
     "showTitle": false,
     "tableResultSettingsMap": {},
     "title": ""
    }
   },
   "outputs": [],
   "source": [
    "%sql\n",
    "select customer_id,\n",
    "  max(created_timestamp) as max_created_timestamp\n",
    " from v_customers_distinct\n",
    " group by customer_id"
   ]
  },
  {
   "cell_type": "code",
   "execution_count": 0,
   "metadata": {
    "application/vnd.databricks.v1+cell": {
     "cellMetadata": {
      "byteLimit": 2048000,
      "implicitDf": true,
      "rowLimit": 10000
     },
     "inputWidgets": {},
     "nuid": "a4c710f0-7610-4e25-bb22-5abe67054272",
     "showTitle": false,
     "tableResultSettingsMap": {},
     "title": ""
    }
   },
   "outputs": [],
   "source": [
    "%sql\n",
    "with cte_max as \n",
    "(\n",
    "    select customer_id,\n",
    "         max(created_timestamp) as max_created_timestamp\n",
    "    from v_customers_distinct\n",
    "    group by customer_id\n",
    ")\n",
    "select t.*\n",
    "    from v_customers_distinct t\n",
    "    join cte_max m \n",
    "    on t.customer_id = m.customer_id \n",
    "    and t.created_timestamp = m.max_created_timestamp\n"
   ]
  },
  {
   "cell_type": "markdown",
   "metadata": {
    "application/vnd.databricks.v1+cell": {
     "cellMetadata": {},
     "inputWidgets": {},
     "nuid": "101be939-2dee-456e-acc6-fc2e57af2e0b",
     "showTitle": false,
     "tableResultSettingsMap": {},
     "title": ""
    }
   },
   "source": [
    "### CAST the column values into correct data type"
   ]
  },
  {
   "cell_type": "code",
   "execution_count": 0,
   "metadata": {
    "application/vnd.databricks.v1+cell": {
     "cellMetadata": {
      "byteLimit": 2048000,
      "implicitDf": true,
      "rowLimit": 10000
     },
     "inputWidgets": {},
     "nuid": "b86f00d0-845b-4fca-a52e-7de0bf581d93",
     "showTitle": false,
     "tableResultSettingsMap": {},
     "title": ""
    }
   },
   "outputs": [],
   "source": [
    "%sql\n",
    "with cte_max as \n",
    "(\n",
    "    select customer_id,\n",
    "         max(created_timestamp) as max_created_timestamp\n",
    "    from v_customers_distinct\n",
    "    group by customer_id\n",
    ")\n",
    "select cast(t.created_timestamp as timestamp),\n",
    "       t.customer_id,\n",
    "       t.customer_name,\n",
    "       cast(t.date_of_birth as date) as date_of_birth,\n",
    "       t.email,\n",
    "       cast(t.member_since as date) as member_since,\n",
    "       t.telephone\n",
    "    from v_customers_distinct t\n",
    "    join cte_max m \n",
    "    on t.customer_id = m.customer_id \n",
    "    and t.created_timestamp = m.max_created_timestamp\n"
   ]
  },
  {
   "cell_type": "markdown",
   "metadata": {
    "application/vnd.databricks.v1+cell": {
     "cellMetadata": {},
     "inputWidgets": {},
     "nuid": "f154f935-5b90-435c-8a1d-f7b4cc02e6cc",
     "showTitle": false,
     "tableResultSettingsMap": {},
     "title": ""
    }
   },
   "source": [
    "### Write Data into a Delta Table"
   ]
  },
  {
   "cell_type": "code",
   "execution_count": 0,
   "metadata": {
    "application/vnd.databricks.v1+cell": {
     "cellMetadata": {
      "byteLimit": 2048000,
      "implicitDf": true,
      "rowLimit": 10000
     },
     "inputWidgets": {},
     "nuid": "32d0ba0b-5b10-486a-8fb7-6e954d35b3d2",
     "showTitle": false,
     "tableResultSettingsMap": {},
     "title": ""
    }
   },
   "outputs": [],
   "source": [
    "%sql\n",
    "create table democatalog.silver.customers\n",
    "as\n",
    "with cte_max as \n",
    "(\n",
    "    select customer_id,\n",
    "         max(created_timestamp) as max_created_timestamp\n",
    "    from v_customers_distinct\n",
    "    group by customer_id\n",
    ")\n",
    "select cast(t.created_timestamp as timestamp),\n",
    "       t.customer_id,\n",
    "       t.customer_name,\n",
    "       cast(t.date_of_birth as date) as date_of_birth,\n",
    "       t.email,\n",
    "       cast(t.member_since as date) as member_since,\n",
    "       t.telephone\n",
    "    from v_customers_distinct t\n",
    "    join cte_max m \n",
    "    on t.customer_id = m.customer_id \n",
    "    and t.created_timestamp = m.max_created_timestamp\n"
   ]
  },
  {
   "cell_type": "code",
   "execution_count": 0,
   "metadata": {
    "application/vnd.databricks.v1+cell": {
     "cellMetadata": {
      "byteLimit": 2048000,
      "implicitDf": true,
      "rowLimit": 10000
     },
     "inputWidgets": {},
     "nuid": "bdda2bc7-3986-43f5-b2d6-488afc968411",
     "showTitle": false,
     "tableResultSettingsMap": {},
     "title": ""
    }
   },
   "outputs": [],
   "source": [
    "%sql\n",
    "select * from democatalog.silver.customers"
   ]
  }
 ],
 "metadata": {
  "application/vnd.databricks.v1+notebook": {
   "computePreferences": null,
   "dashboards": [],
   "environmentMetadata": {
    "base_environment": "",
    "environment_version": "4"
   },
   "inputWidgetPreferences": null,
   "language": "python",
   "notebookMetadata": {
    "mostRecentlyExecutedCommandWithImplicitDF": {
     "commandId": 5393364224585177,
     "dataframes": [
      "_sqldf"
     ]
    },
    "pythonIndentUnit": 4
   },
   "notebookName": "( Silver Layer ) Transform Customer Data",
   "widgets": {}
  },
  "language_info": {
   "name": "python"
  }
 },
 "nbformat": 4,
 "nbformat_minor": 0
}
