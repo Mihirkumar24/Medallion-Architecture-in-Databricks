{
 "cells": [
  {
   "cell_type": "code",
   "execution_count": 0,
   "metadata": {
    "application/vnd.databricks.v1+cell": {
     "cellMetadata": {
      "byteLimit": 2048000,
      "implicitDf": true,
      "rowLimit": 10000
     },
     "inputWidgets": {},
     "nuid": "c03e87cb-5310-45fb-ac95-b51019ca63d7",
     "showTitle": false,
     "tableResultSettingsMap": {},
     "title": ""
    }
   },
   "outputs": [],
   "source": [
    "%sql\n",
    "select * from democatalog.silver.orders_json"
   ]
  },
  {
   "cell_type": "markdown",
   "metadata": {
    "application/vnd.databricks.v1+cell": {
     "cellMetadata": {},
     "inputWidgets": {},
     "nuid": "d2bc108f-679f-4a0b-971d-3e702e6f51b8",
     "showTitle": false,
     "tableResultSettingsMap": {},
     "title": ""
    }
   },
   "source": [
    "### Access elements from the JSON object"
   ]
  },
  {
   "cell_type": "code",
   "execution_count": 0,
   "metadata": {
    "application/vnd.databricks.v1+cell": {
     "cellMetadata": {
      "byteLimit": 2048000,
      "implicitDf": true,
      "rowLimit": 10000
     },
     "inputWidgets": {},
     "nuid": "129effd4-2217-494c-9db8-6bf831b1af8a",
     "showTitle": false,
     "tableResultSettingsMap": {},
     "title": ""
    }
   },
   "outputs": [],
   "source": [
    "%sql\n",
    "select json_value.order_id,\n",
    "       json_value.order_status,\n",
    "       json_value.payment_method,\n",
    "       json_value.total_amount,\n",
    "       json_value.transaction_timestamp,\n",
    "       json_value.customer_id,\n",
    "       json_value.items\n",
    "  from democatalog.silver.orders_json"
   ]
  },
  {
   "cell_type": "markdown",
   "metadata": {
    "application/vnd.databricks.v1+cell": {
     "cellMetadata": {},
     "inputWidgets": {},
     "nuid": "0f824f9b-1e64-4529-81f1-2d8928fd52c2",
     "showTitle": false,
     "tableResultSettingsMap": {},
     "title": ""
    }
   },
   "source": [
    "### Deduplicate Array elements"
   ]
  },
  {
   "cell_type": "code",
   "execution_count": 0,
   "metadata": {
    "application/vnd.databricks.v1+cell": {
     "cellMetadata": {
      "byteLimit": 2048000,
      "implicitDf": true,
      "rowLimit": 10000
     },
     "inputWidgets": {},
     "nuid": "abf8eb2d-502d-4858-98aa-9f836629611c",
     "showTitle": false,
     "tableResultSettingsMap": {},
     "title": ""
    }
   },
   "outputs": [],
   "source": [
    "%sql\n",
    "select json_value.order_id,\n",
    "       json_value.order_status,\n",
    "       json_value.payment_method,\n",
    "       json_value.total_amount,\n",
    "       json_value.transaction_timestamp,\n",
    "       json_value.customer_id,\n",
    "       array_distinct(json_value.items) as items\n",
    "  from democatalog.silver.orders_json"
   ]
  },
  {
   "cell_type": "markdown",
   "metadata": {
    "application/vnd.databricks.v1+cell": {
     "cellMetadata": {},
     "inputWidgets": {},
     "nuid": "5021f442-b468-43e6-8ce0-fc216c5a143e",
     "showTitle": false,
     "tableResultSettingsMap": {},
     "title": ""
    }
   },
   "source": [
    "###   Expolode Arrays"
   ]
  },
  {
   "cell_type": "code",
   "execution_count": 0,
   "metadata": {
    "application/vnd.databricks.v1+cell": {
     "cellMetadata": {
      "byteLimit": 2048000,
      "implicitDf": true,
      "rowLimit": 10000
     },
     "inputWidgets": {},
     "nuid": "c6ceb0db-4517-4670-a4f0-09c4725489ee",
     "showTitle": false,
     "tableResultSettingsMap": {},
     "title": ""
    }
   },
   "outputs": [],
   "source": [
    "%sql\n",
    "select json_value.order_id,\n",
    "       json_value.order_status,\n",
    "       json_value.payment_method,\n",
    "       json_value.total_amount,\n",
    "       json_value.transaction_timestamp,\n",
    "       json_value.customer_id,\n",
    "       explode(json_value.items) as item\n",
    "  from democatalog.silver.orders_json"
   ]
  },
  {
   "cell_type": "code",
   "execution_count": 0,
   "metadata": {
    "application/vnd.databricks.v1+cell": {
     "cellMetadata": {
      "byteLimit": 2048000,
      "implicitDf": true,
      "rowLimit": 10000
     },
     "inputWidgets": {},
     "nuid": "fbeb716d-85fd-4eee-a478-da8aa7850768",
     "showTitle": false,
     "tableResultSettingsMap": {},
     "title": ""
    }
   },
   "outputs": [],
   "source": [
    "%sql\n",
    "create  or replace temporary view tv_orders_exploded\n",
    "as\n",
    "select json_value.order_id,\n",
    "       json_value.order_status,\n",
    "       json_value.payment_method,\n",
    "       json_value.total_amount,\n",
    "       json_value.transaction_timestamp,\n",
    "       json_value.customer_id,\n",
    "       explode(json_value.items) as item\n",
    "  from democatalog.silver.orders_json\n"
   ]
  },
  {
   "cell_type": "code",
   "execution_count": 0,
   "metadata": {
    "application/vnd.databricks.v1+cell": {
     "cellMetadata": {
      "byteLimit": 2048000,
      "implicitDf": true,
      "rowLimit": 10000
     },
     "inputWidgets": {},
     "nuid": "ce1c1374-0c59-496b-9bec-93254db3fa58",
     "showTitle": false,
     "tableResultSettingsMap": {
      "0": {
       "dataGridStateBlob": "{\"version\":1,\"tableState\":{\"columnPinning\":{\"left\":[\"#row_number#\"],\"right\":[]},\"columnSizing\":{},\"columnVisibility\":{}},\"settings\":{\"columns\":{}},\"syncTimestamp\":1760696803259}",
       "filterBlob": null,
       "queryPlanFiltersBlob": null,
       "tableResultIndex": 0
      }
     },
     "title": ""
    }
   },
   "outputs": [],
   "source": [
    "%sql\n",
    "select order_id,\n",
    "       order_status,\n",
    "       payment_method,\n",
    "       total_amount,  \n",
    "       transaction_timestamp,\n",
    "       customer_id,\n",
    "       item.item_id,\n",
    "       item.name,\n",
    "       item.price,\n",
    "       item.quantity,\n",
    "       item.category,\n",
    "       item.details.brand,\n",
    "       item.details.color\n",
    " from tv_orders_exploded"
   ]
  },
  {
   "cell_type": "markdown",
   "metadata": {
    "application/vnd.databricks.v1+cell": {
     "cellMetadata": {},
     "inputWidgets": {},
     "nuid": "4fc2c51c-e3ad-4094-87a1-b134e4efd5bf",
     "showTitle": false,
     "tableResultSettingsMap": {},
     "title": ""
    }
   },
   "source": [
    "### Write the transformed data into the silver schema"
   ]
  },
  {
   "cell_type": "code",
   "execution_count": 0,
   "metadata": {
    "application/vnd.databricks.v1+cell": {
     "cellMetadata": {
      "byteLimit": 2048000,
      "implicitDf": true,
      "rowLimit": 10000
     },
     "inputWidgets": {},
     "nuid": "f8ced937-da0d-4365-9070-6d3de0c13af7",
     "showTitle": false,
     "tableResultSettingsMap": {},
     "title": ""
    }
   },
   "outputs": [],
   "source": [
    "%sql\n",
    "create table if not exists democatalog.silver.orders\n",
    "as \n",
    "select order_id,\n",
    "       order_status,\n",
    "       payment_method,\n",
    "       total_amount,  \n",
    "       transaction_timestamp,\n",
    "       customer_id,\n",
    "       item.item_id,\n",
    "       item.name,\n",
    "       item.price,\n",
    "       item.quantity,\n",
    "       item.category,\n",
    "       item.details.brand,\n",
    "       item.details.color\n",
    " from tv_orders_exploded"
   ]
  },
  {
   "cell_type": "code",
   "execution_count": 0,
   "metadata": {
    "application/vnd.databricks.v1+cell": {
     "cellMetadata": {
      "byteLimit": 2048000,
      "implicitDf": true,
      "rowLimit": 10000
     },
     "inputWidgets": {},
     "nuid": "da9ea627-da22-4f9e-8233-5ec2554ee6fc",
     "showTitle": false,
     "tableResultSettingsMap": {},
     "title": ""
    }
   },
   "outputs": [],
   "source": [
    "%sql\n",
    "select * from democatalog.silver.orders"
   ]
  },
  {
   "cell_type": "markdown",
   "metadata": {
    "application/vnd.databricks.v1+cell": {
     "cellMetadata": {},
     "inputWidgets": {},
     "nuid": "f637bc7a-8ead-402f-9e08-dc9d13f1f333",
     "showTitle": false,
     "tableResultSettingsMap": {},
     "title": ""
    }
   },
   "source": []
  }
 ],
 "metadata": {
  "application/vnd.databricks.v1+notebook": {
   "computePreferences": null,
   "dashboards": [],
   "environmentMetadata": {
    "base_environment": "",
    "environment_version": "4"
   },
   "inputWidgetPreferences": null,
   "language": "python",
   "notebookMetadata": {
    "mostRecentlyExecutedCommandWithImplicitDF": {
     "commandId": 5393364224585174,
     "dataframes": [
      "_sqldf"
     ]
    },
    "pythonIndentUnit": 4
   },
   "notebookName": "( Silver Layer ) Transform Orders Data - Explode Arrays",
   "widgets": {}
  },
  "language_info": {
   "name": "python"
  }
 },
 "nbformat": 4,
 "nbformat_minor": 0
}
