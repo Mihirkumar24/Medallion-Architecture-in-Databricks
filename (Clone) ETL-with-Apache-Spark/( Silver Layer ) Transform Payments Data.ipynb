{
 "cells": [
  {
   "cell_type": "code",
   "execution_count": 0,
   "metadata": {
    "application/vnd.databricks.v1+cell": {
     "cellMetadata": {
      "byteLimit": 2048000,
      "implicitDf": true,
      "rowLimit": 10000
     },
     "inputWidgets": {},
     "nuid": "0758cb1a-e9a6-405f-af1d-7120917f282c",
     "showTitle": false,
     "tableResultSettingsMap": {},
     "title": ""
    }
   },
   "outputs": [],
   "source": [
    "%sql\n",
    "select payment_id,\n",
    "       order_id,\n",
    "       payment_timestamp,\n",
    "       payment_status,\n",
    "       payment_method\n",
    "from democatalog.bronze.paymentss\n"
   ]
  },
  {
   "cell_type": "markdown",
   "metadata": {
    "application/vnd.databricks.v1+cell": {
     "cellMetadata": {},
     "inputWidgets": {},
     "nuid": "e7a75dc4-62d2-4aa2-b971-58cc5575f83f",
     "showTitle": false,
     "tableResultSettingsMap": {},
     "title": ""
    }
   },
   "source": [
    "### Extract Date and Time from payment_timestamp"
   ]
  },
  {
   "cell_type": "code",
   "execution_count": 0,
   "metadata": {
    "application/vnd.databricks.v1+cell": {
     "cellMetadata": {
      "byteLimit": 2048000,
      "implicitDf": true,
      "rowLimit": 10000
     },
     "inputWidgets": {},
     "nuid": "cd3d180b-38ef-4107-9888-91c53041d961",
     "showTitle": false,
     "tableResultSettingsMap": {},
     "title": ""
    }
   },
   "outputs": [],
   "source": [
    "%sql\n",
    "select payment_id,\n",
    "       order_id,\n",
    "       payment_timestamp,\n",
    "       cast(date_format(payment_timestamp, 'yyyy-MM-dd') as date) as payment_date,\n",
    "       date_format(payment_timestamp, 'HH:mm:ss') as payment_time,\n",
    "       payment_status,\n",
    "       payment_method\n",
    "from democatalog.bronze.paymentss\n"
   ]
  },
  {
   "cell_type": "code",
   "execution_count": 0,
   "metadata": {
    "application/vnd.databricks.v1+cell": {
     "cellMetadata": {
      "byteLimit": 2048000,
      "implicitDf": true,
      "rowLimit": 10000
     },
     "inputWidgets": {},
     "nuid": "a7c26cf1-0ebf-4d5f-9fdc-af0012f0a360",
     "showTitle": false,
     "tableResultSettingsMap": {},
     "title": ""
    }
   },
   "outputs": [],
   "source": [
    "%sql\n",
    "select payment_id,\n",
    "       order_id,\n",
    "       cast(date_format(payment_timestamp, 'yyyy-MM-dd') as date) as payment_date,\n",
    "       date_format(payment_timestamp, 'HH:mm:ss') as payment_time,\n",
    "       payment_status,\n",
    "       payment_method\n",
    "from democatalog.bronze.paymentss\n"
   ]
  },
  {
   "cell_type": "markdown",
   "metadata": {
    "application/vnd.databricks.v1+cell": {
     "cellMetadata": {},
     "inputWidgets": {},
     "nuid": "7860011a-a917-49e9-9d00-80d7f5bc4ba7",
     "showTitle": false,
     "tableResultSettingsMap": {},
     "title": ""
    }
   },
   "source": [
    "### Map payment_status to contain descriptive values"
   ]
  },
  {
   "cell_type": "code",
   "execution_count": 0,
   "metadata": {
    "application/vnd.databricks.v1+cell": {
     "cellMetadata": {
      "byteLimit": 2048000,
      "implicitDf": true,
      "rowLimit": 10000
     },
     "inputWidgets": {},
     "nuid": "fc5df3ca-4198-4861-8f09-20d02d3a939d",
     "showTitle": false,
     "tableResultSettingsMap": {},
     "title": ""
    }
   },
   "outputs": [],
   "source": [
    "%sql\n",
    "select payment_id,\n",
    "       order_id,\n",
    "       cast(date_format(payment_timestamp, 'yyyy-MM-dd') as date) as payment_date,\n",
    "       date_format(payment_timestamp, 'HH:mm:ss') as payment_time,\n",
    "       payment_status,\n",
    "       case payment_status\n",
    "          when 1 then 'Success'\n",
    "          when 2 then 'Pending'\n",
    "          when 3 then 'Cancelled'\n",
    "          when 4 then 'Failed'\n",
    "       end as payment_status, \n",
    "       payment_method\n",
    "from democatalog.bronze.paymentss\n"
   ]
  },
  {
   "cell_type": "code",
   "execution_count": 0,
   "metadata": {
    "application/vnd.databricks.v1+cell": {
     "cellMetadata": {
      "byteLimit": 2048000,
      "implicitDf": true,
      "rowLimit": 10000
     },
     "inputWidgets": {},
     "nuid": "7ca6fdc7-e9c2-4765-b76b-97511efcfce4",
     "showTitle": false,
     "tableResultSettingsMap": {},
     "title": ""
    }
   },
   "outputs": [],
   "source": [
    "%sql\n",
    "select payment_id,\n",
    "       order_id,\n",
    "       cast(date_format(payment_timestamp, 'yyyy-MM-dd') as date) as payment_date,\n",
    "       date_format(payment_timestamp, 'HH:mm:ss') as payment_time,\n",
    "       case payment_status\n",
    "          when 1 then 'Success'\n",
    "          when 2 then 'Pending'\n",
    "          when 3 then 'Cancelled'\n",
    "          when 4 then 'Failed'\n",
    "       end as payment_status, \n",
    "       payment_method\n",
    "from democatalog.bronze.paymentss\n"
   ]
  },
  {
   "cell_type": "markdown",
   "metadata": {
    "application/vnd.databricks.v1+cell": {
     "cellMetadata": {},
     "inputWidgets": {},
     "nuid": "fe8cd1d5-e8e4-4948-8d7b-ada4c6d7c614",
     "showTitle": false,
     "tableResultSettingsMap": {},
     "title": ""
    }
   },
   "source": [
    "### Write transformed data to the silver schema"
   ]
  },
  {
   "cell_type": "code",
   "execution_count": 0,
   "metadata": {
    "application/vnd.databricks.v1+cell": {
     "cellMetadata": {
      "byteLimit": 2048000,
      "implicitDf": true,
      "rowLimit": 10000
     },
     "inputWidgets": {},
     "nuid": "fa28d6fa-41b5-4ebf-8b11-ba33893aa803",
     "showTitle": false,
     "tableResultSettingsMap": {},
     "title": ""
    }
   },
   "outputs": [],
   "source": [
    "%sql\n",
    "create table democatalog.silver.paymentss\n",
    "as\n",
    "select payment_id,\n",
    "       order_id,\n",
    "       cast(date_format(payment_timestamp, 'yyyy-MM-dd') as date) as payment_date,\n",
    "       date_format(payment_timestamp, 'HH:mm:ss') as payment_time,\n",
    "       case payment_status\n",
    "          when 1 then 'Success'\n",
    "          when 2 then 'Pending'\n",
    "          when 3 then 'Cancelled'\n",
    "          when 4 then 'Failed'\n",
    "       end as payment_status, \n",
    "       payment_method\n",
    "from democatalog.bronze.paymentss\n"
   ]
  },
  {
   "cell_type": "code",
   "execution_count": 0,
   "metadata": {
    "application/vnd.databricks.v1+cell": {
     "cellMetadata": {
      "byteLimit": 2048000,
      "implicitDf": true,
      "rowLimit": 10000
     },
     "inputWidgets": {},
     "nuid": "0cf352c4-1d4e-4f10-baaa-b007fa6a5667",
     "showTitle": false,
     "tableResultSettingsMap": {},
     "title": ""
    }
   },
   "outputs": [],
   "source": [
    "%sql\n",
    "select * from democatalog.silver.paymentss"
   ]
  },
  {
   "cell_type": "markdown",
   "metadata": {
    "application/vnd.databricks.v1+cell": {
     "cellMetadata": {},
     "inputWidgets": {},
     "nuid": "cfae70fd-c333-4a93-8b71-bdcb96c2d0b5",
     "showTitle": false,
     "tableResultSettingsMap": {},
     "title": ""
    }
   },
   "source": []
  }
 ],
 "metadata": {
  "application/vnd.databricks.v1+notebook": {
   "computePreferences": null,
   "dashboards": [],
   "environmentMetadata": {
    "base_environment": "",
    "environment_version": "4"
   },
   "inputWidgetPreferences": null,
   "language": "python",
   "notebookMetadata": {
    "mostRecentlyExecutedCommandWithImplicitDF": {
     "commandId": 5988211155584739,
     "dataframes": [
      "_sqldf"
     ]
    },
    "pythonIndentUnit": 4
   },
   "notebookName": "( Silver Layer ) Transform Payments Data",
   "widgets": {}
  },
  "language_info": {
   "name": "python"
  }
 },
 "nbformat": 4,
 "nbformat_minor": 0
}
