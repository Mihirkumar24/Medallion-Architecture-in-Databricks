{
 "cells": [
  {
   "cell_type": "markdown",
   "metadata": {
    "application/vnd.databricks.v1+cell": {
     "cellMetadata": {},
     "inputWidgets": {},
     "nuid": "99b045d6-ab56-4286-8150-350fb5f7ef0e",
     "showTitle": false,
     "tableResultSettingsMap": {},
     "title": ""
    }
   },
   "source": [
    "### Join Customer Table and Address Table"
   ]
  },
  {
   "cell_type": "markdown",
   "metadata": {
    "application/vnd.databricks.v1+cell": {
     "cellMetadata": {},
     "inputWidgets": {},
     "nuid": "789977f8-778c-472c-987f-67b863691299",
     "showTitle": false,
     "tableResultSettingsMap": {},
     "title": ""
    }
   },
   "source": [
    "Join customer data with address data to create customer_address table which contains the address of each customer on the same record\n"
   ]
  },
  {
   "cell_type": "code",
   "execution_count": 0,
   "metadata": {
    "application/vnd.databricks.v1+cell": {
     "cellMetadata": {
      "byteLimit": 2048000,
      "implicitDf": true,
      "rowLimit": 10000
     },
     "inputWidgets": {},
     "nuid": "89b15794-1527-4416-8aa1-df7ffcf8c7f1",
     "showTitle": false,
     "tableResultSettingsMap": {},
     "title": ""
    }
   },
   "outputs": [],
   "source": [
    "%sql\n",
    "select * from democatalog.silver.customers"
   ]
  },
  {
   "cell_type": "code",
   "execution_count": 0,
   "metadata": {
    "application/vnd.databricks.v1+cell": {
     "cellMetadata": {
      "byteLimit": 2048000,
      "implicitDf": true,
      "rowLimit": 10000
     },
     "inputWidgets": {},
     "nuid": "ac1ad9d8-2578-4ff7-80ef-f27fa8e4b06d",
     "showTitle": false,
     "tableResultSettingsMap": {},
     "title": ""
    }
   },
   "outputs": [],
   "source": [
    "%sql\n",
    "select * from democatalog.silver.addresses"
   ]
  },
  {
   "cell_type": "code",
   "execution_count": 0,
   "metadata": {
    "application/vnd.databricks.v1+cell": {
     "cellMetadata": {
      "byteLimit": 2048000,
      "implicitDf": true,
      "rowLimit": 10000
     },
     "inputWidgets": {},
     "nuid": "9b7c1531-eca1-41a2-9a32-6a92c061fb68",
     "showTitle": false,
     "tableResultSettingsMap": {},
     "title": ""
    }
   },
   "outputs": [],
   "source": [
    "%sql\n",
    "select c.customer_id,\n",
    "       c.customer_name,\n",
    "       c.email,\n",
    "       c.date_of_birth,\n",
    "       c.member_since,\n",
    "       c.telephone,\n",
    "       a.shipping_address_line_1,\n",
    "       a.shipping_city,\n",
    "       a.shipping_state,\n",
    "       a.shipping_postcode,\n",
    "       a.billing_address_line_1,\n",
    "       a.billing_city,\n",
    "       a.billing_state,\n",
    "       a.billing_postcode\n",
    "from democatalog.silver.customers c \n",
    "  inner join democatalog.silver.addresses a \n",
    "  on c.customer_id = a.customer_id"
   ]
  },
  {
   "cell_type": "code",
   "execution_count": 0,
   "metadata": {
    "application/vnd.databricks.v1+cell": {
     "cellMetadata": {
      "byteLimit": 2048000,
      "implicitDf": true,
      "rowLimit": 10000
     },
     "inputWidgets": {},
     "nuid": "6772e082-a278-42e4-9a2b-41c3db1293ad",
     "showTitle": false,
     "tableResultSettingsMap": {},
     "title": ""
    }
   },
   "outputs": [],
   "source": [
    "%sql\n",
    "create table if not exists democatalog.gold.customer_address\n",
    "as\n",
    "select c.customer_id,\n",
    "       c.customer_name,\n",
    "       c.email,\n",
    "       c.date_of_birth,\n",
    "       c.member_since,\n",
    "       c.telephone,\n",
    "       a.shipping_address_line_1,\n",
    "       a.shipping_city,\n",
    "       a.shipping_state,\n",
    "       a.shipping_postcode,\n",
    "       a.billing_address_line_1,\n",
    "       a.billing_city,\n",
    "       a.billing_state,\n",
    "       a.billing_postcode\n",
    "from democatalog.silver.customers c \n",
    "  inner join democatalog.silver.addresses a \n",
    "  on c.customer_id = a.customer_id"
   ]
  },
  {
   "cell_type": "code",
   "execution_count": 0,
   "metadata": {
    "application/vnd.databricks.v1+cell": {
     "cellMetadata": {
      "byteLimit": 2048000,
      "implicitDf": true,
      "rowLimit": 10000
     },
     "inputWidgets": {},
     "nuid": "9ce00b6d-8a8a-41bf-a941-34a012ec97f5",
     "showTitle": false,
     "tableResultSettingsMap": {},
     "title": ""
    }
   },
   "outputs": [],
   "source": [
    "%sql\n",
    "select * from democatalog.gold.customer_address"
   ]
  }
 ],
 "metadata": {
  "application/vnd.databricks.v1+notebook": {
   "computePreferences": null,
   "dashboards": [],
   "environmentMetadata": {
    "base_environment": "",
    "environment_version": "4"
   },
   "inputWidgetPreferences": null,
   "language": "python",
   "notebookMetadata": {
    "mostRecentlyExecutedCommandWithImplicitDF": {
     "commandId": 5393364224585181,
     "dataframes": [
      "_sqldf"
     ]
    },
    "pythonIndentUnit": 4
   },
   "notebookName": "( Gold Layer ) Join Customer and Address",
   "widgets": {}
  },
  "language_info": {
   "name": "python"
  }
 },
 "nbformat": 4,
 "nbformat_minor": 0
}
